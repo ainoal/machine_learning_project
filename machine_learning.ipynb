{
 "cells": [
  {
   "cell_type": "markdown",
   "metadata": {},
   "source": [
    "# Introduction to Machine Learning - PROJECT"
   ]
  },
  {
   "cell_type": "markdown",
   "metadata": {
    "scrolled": false
   },
   "source": [
    "Authors: Aino Liukkonen and Raúl Cruz-Oliver"
   ]
  },
  {
   "cell_type": "code",
   "execution_count": 131,
   "metadata": {},
   "outputs": [],
   "source": [
    "import pandas as pd\n",
    "# Documentation\n",
    "# https://pandas.pydata.org/docs\n",
    "\n",
    "import matplotlib.pyplot as plt\n",
    "import numpy as np\n",
    "from scipy.io import loadmat\n",
    "from sklearn import model_selection"
   ]
  },
  {
   "cell_type": "code",
   "execution_count": 134,
   "metadata": {},
   "outputs": [
    {
     "name": "stdout",
     "output_type": "stream",
     "text": [
      "    Age  Children\n",
      "0     5         0\n",
      "1    25         0\n",
      "2    55         1\n",
      "3    35         1\n",
      "4    12         0\n",
      "5    75         1\n",
      "6    65         1\n",
      "7    21         0\n",
      "8    92         1\n",
      "9    37         1\n",
      "10   49         1\n",
      "11    9         0\n",
      "12   27         0\n",
      "13   68         1\n",
      "14   38         1\n",
      "15   57         1\n",
      "16   56         1\n",
      "17   23         0\n",
      "18   18         0\n"
     ]
    }
   ],
   "source": [
    "# Our respective DATA folder paths\n",
    "# Not 100 % sure if yours works or if because of the whitespace characters you need to do some tricks with the path part \"Introduction to Machine Learning\"\n",
    "# data_folder = r'C:\\Users\\lenovo\\Desktop\\S7-DE\\Introduction to Machine Learning\\machine_learning_project\\DATA'\n",
    "data_folder = r'C:\\Users\\ainol\\OneDrive\\Tiedostot\\TutaJaOhtu\\Machine_Learning\\course_project\\DATA'\n",
    "\n",
    "# Import Data\n",
    "test = pd.read_excel(data_folder + r'\\test.xlsx')\n",
    "#this is only my path, add yours as a comment\n",
    "\n",
    "print(test)"
   ]
  },
  {
   "cell_type": "code",
   "execution_count": 112,
   "metadata": {},
   "outputs": [
    {
     "data": {
      "text/plain": [
       "<matplotlib.collections.PathCollection at 0x1e856d88f70>"
      ]
     },
     "execution_count": 112,
     "metadata": {},
     "output_type": "execute_result"
    },
    {
     "data": {
      "image/png": "[encoded data removed]",
      "text/plain": [
       "<Figure size 432x288 with 1 Axes>"
      ]
     },
     "metadata": {
      "needs_background": "light"
     },
     "output_type": "display_data"
    }
   ],
   "source": [
    "# Data visualization\n",
    "# from data to vector\n",
    "x = test[\"Age\"].to_numpy()\n",
    "y = test[\"Children\"].to_numpy()\n",
    "\n",
    "plt.scatter(x, y)"
   ]
  },
  {
   "cell_type": "code",
   "execution_count": 113,
   "metadata": {},
   "outputs": [],
   "source": [
    "k = 1   #number of predictors, remember theta_0 is for the bias since x_o is always 1\n",
    "\n",
    "sh=np.shape(x)\n",
    "m=sh[0] #number of observations in the training data\n",
    "\n",
    "x=np.reshape(x, (m,1)) #predictors\n",
    "y=np.reshape(y, (m,1)) #labels\n",
    "ones = np.ones ((m,1)) #for the bias x_0\n",
    "\n",
    "X = np.concatenate((ones,x),axis=1) #matrix of training data\n",
    "\n",
    "theta = np.random.rand(k+1,1)\n",
    "\n",
    "#print(theta)\n",
    "#print(X)"
   ]
  },
  {
   "cell_type": "code",
   "execution_count": 114,
   "metadata": {},
   "outputs": [
    {
     "name": "stdout",
     "output_type": "stream",
     "text": [
      "0.000969467840317759\n",
      "[[-14.63266634]\n",
      " [  0.47859518]]\n"
     ]
    }
   ],
   "source": [
    "def sigmoid(x):\n",
    "    return 1 / (1 + np.exp(-x))\n",
    "\n",
    "epsilon=1.0E-03\n",
    "alpha=0.1\n",
    "diff=epsilon+1\n",
    "theta_old=theta\n",
    "\n",
    "while diff > epsilon:\n",
    "    theta_old=theta\n",
    "    error=sigmoid(np.dot(X,theta))-y\n",
    "    theta = theta_old - (alpha/m)*np.dot(np.transpose(X),error)\n",
    "    diff = np.linalg.norm(theta_old-theta)\n",
    "    \n",
    "#print(error)\n",
    "print(diff)\n",
    "print(theta)"
   ]
  },
  {
   "cell_type": "code",
   "execution_count": 115,
   "metadata": {},
   "outputs": [
    {
     "data": {
      "text/plain": [
       "<matplotlib.collections.PathCollection at 0x1e857db8ee0>"
      ]
     },
     "execution_count": 115,
     "metadata": {},
     "output_type": "execute_result"
    },
    {
     "data": {
      "image/png": "[encoded data removed]",
      "text/plain": [
       "<Figure size 432x288 with 1 Axes>"
      ]
     },
     "metadata": {
      "needs_background": "light"
     },
     "output_type": "display_data"
    }
   ],
   "source": [
    "#trained model visualization\n",
    "x_graph = np.linspace(0, 100, 101)\n",
    "x_graph=np.reshape(x_graph, (101,1)) #predictors\n",
    "ones = np.ones ((101,1)) #for the bias x_0\n",
    "X_graph = np.concatenate((ones,x_graph),axis=1) #matrix of training data\n",
    "\n",
    "z_graph = sigmoid(np.dot(X_graph,theta))\n",
    "\n",
    "plt.plot(x_graph, z_graph, c=\"red\")\n",
    "plt.xlabel(\"x\")\n",
    "plt.ylabel(\"Sigmoid(X)\")\n",
    "x = test[\"Age\"].to_numpy()\n",
    "y = test[\"Children\"].to_numpy()\n",
    "plt.scatter(x, y, c=\"blue\")"
   ]
  },
  {
   "cell_type": "code",
   "execution_count": 143,
   "metadata": {},
   "outputs": [],
   "source": [
    "# Read data from LOSS.mat\n",
    "mat_loss = loadmat(data_folder + r'\\LOSS.mat')\n",
    "loss_matrix = mat_loss['LOSS']\n",
    "loss_matrix = np.matrix(loss_matrix)\n",
    "# Convert into a Pandas Data Frame\n",
    "loss = pd.DataFrame(loss_matrix, columns=['NOI', 'DSCR', 'LTV', 'Balance', \n",
    "                                        'Rate', 'Fee','Net_Mortgage_Rate', 'Year_Built', \n",
    "                                        'Renovation','Occupancy', 'ZipPop', 'CR', 'CS', \n",
    "                                        'CS_Ratio','NOI_Ratio', 'PV_Ratio', 'IR'])\n",
    "\n",
    "# Read data from PAY.mat\n",
    "mat_pay = loadmat(data_folder + r'\\PAY.mat')\n",
    "pay_matrix = mat_pay['PAY']\n",
    "pay_matrix = np.matrix(pay_matrix)\n",
    "# Convert into a Pandas Data Frame\n",
    "pay = pd.DataFrame(pay_matrix, columns=['NOI', 'DSCR', 'LTV', 'Balance', \n",
    "                                        'Rate', 'Fee','Net_Mortgage_Rate', 'Year_Built', \n",
    "                                        'Renovation','Occupancy', 'ZipPop', 'CR', 'CS', \n",
    "                                        'CS_Ratio','NOI_Ratio', 'PV_Ratio', 'IR'])\n",
    "\n",
    "# Adding a column to the DataFrames; the value of the column represents whether\n",
    "# the mortgage has been payed back or defaulted\n",
    "# Feel free to give the column a better name, I'm not feeling inspired\n",
    "loss['is_paid'] = 0\n",
    "pay['is_paid'] = 1\n",
    "\n",
    "# Concatenate pay and loss data into one DataFrame\n",
    "data_frames = [pay, loss]\n",
    "pay_loss = pd.concat(data_frames)\n",
    "#print(pay_loss)"
   ]
  },
  {
   "cell_type": "code",
   "execution_count": 144,
   "metadata": {},
   "outputs": [],
   "source": [
    "# Split data into training and validation sets\n",
    "# Training data 70 %, validation data 30 %\n",
    "train_data, validation_data = model_selection.train_test_split(pay_loss, test_size=0.3)"
   ]
  },
  {
   "cell_type": "markdown",
   "metadata": {},
   "source": [
    "Different predictors can be chosen by the name of the column, e.g.<br/>\n",
    "pay_loss['NOI']<br/>\n",
    "pay_loss['Balance']\n",
    "\n",
    "And default/pay (represented by 0/1)<br/>\n",
    "pay_loss['is_payed']"
   ]
  },
  {
   "cell_type": "code",
   "execution_count": 159,
   "metadata": {},
   "outputs": [],
   "source": [
    "# Just a little demonstration at this point (using Naive Bayes Model) (Sorry for the ugly code)\n",
    "# I think we can reshape the data in this manner to fit the models\n",
    "from sklearn import naive_bayes\n",
    "\n",
    "naive = naive_bayes.MultinomialNB()\n",
    "train_x, train_y, valid_x, valid_y = train_data['NOI'].array, train_data['is_paid'].array, validation_data['NOI'].array, validation_data['is_paid'].array\n",
    "train_x = train_x.reshape(-1, 1)    # <------ The key part; reshaping our 1D data into 2D so for the model\n",
    "valid_x = valid_x.reshape(-1, 1)    # Not sure if (-1, 1) are the correct numbers; will need to research that a bit\n",
    "naive.fit(train_x, train_y)\n",
    "\n",
    "predict_naive = naive.predict(valid_x)"
   ]
  }
 ],
 "metadata": {
  "interpreter": {
   "hash": "4b7eec4c2e4729699d3902cd476885cff76cced32e2e0591bab94044ee16dad2"
  },
  "kernelspec": {
   "display_name": "Python 3 (ipykernel)",
   "language": "python",
   "name": "python3"
  },
  "language_info": {
   "codemirror_mode": {
    "name": "ipython",
    "version": 3
   },
   "file_extension": ".py",
   "mimetype": "text/x-python",
   "name": "python",
   "nbconvert_exporter": "python",
   "pygments_lexer": "ipython3",
   "version": "3.8.3"
  }
 },
 "nbformat": 4,
 "nbformat_minor": 2
}
