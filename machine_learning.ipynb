{
 "cells": [
  {
   "cell_type": "markdown",
   "metadata": {},
   "source": [
    "# Introduction to Machine Learning - PROJECT"
   ]
  },
  {
   "cell_type": "markdown",
   "metadata": {
    "scrolled": false
   },
   "source": [
    "Authors: Aino Liukkonen and Raúl Cruz-Oliver"
   ]
  },
  {
   "cell_type": "code",
   "execution_count": 23,
   "metadata": {},
   "outputs": [],
   "source": [
    "import pandas as pd\n",
    "# Documentation\n",
    "# https://pandas.pydata.org/docs\n",
    "\n",
    "import matplotlib.pyplot as plt\n",
    "import numpy as np\n",
    "from scipy.io import loadmat\n",
    "from datetime import datetime, date, time"
   ]
  },
  {
   "cell_type": "code",
   "execution_count": 11,
   "metadata": {},
   "outputs": [
    {
     "name": "stdout",
     "output_type": "stream",
     "text": [
      "    Age  Children\n",
      "0     5         0\n",
      "1    25         0\n",
      "2    55         1\n",
      "3    35         1\n",
      "4    12         0\n",
      "5    75         1\n",
      "6    65         1\n",
      "7    21         0\n",
      "8    92         1\n",
      "9    37         1\n",
      "10   49         1\n",
      "11    9         0\n",
      "12   27         0\n",
      "13   68         1\n",
      "14   38         1\n",
      "15   57         1\n",
      "16   56         1\n",
      "17   23         0\n",
      "18   18         0\n"
     ]
    }
   ],
   "source": [
    "# Our respective DATA folder paths\n",
    "# data_folder = r'C:\\Users\\lenovo\\Desktop\\S7-DE\\Introduction to Machine Learning\\machine_learning_project\\DATA'\n",
    "data_folder = r'C:\\Users\\ainol\\OneDrive\\Tiedostot\\TutaJaOhtu\\Machine_Learning\\course_project\\DATA'\n",
    "\n",
    "# Import Data\n",
    "test = pd.read_excel(data_folder + r'\\test.xlsx')\n",
    "#this is only my path, add yours as a comment\n",
    "\n",
    "print(test)\n"
   ]
  },
  {
   "cell_type": "code",
   "execution_count": 12,
   "metadata": {},
   "outputs": [
    {
     "data": {
      "text/plain": [
       "<matplotlib.collections.PathCollection at 0x1e84e621fd0>"
      ]
     },
     "execution_count": 12,
     "metadata": {},
     "output_type": "execute_result"
    },
    {
     "data": {
      "image/png": "[encoded data removed]",
      "text/plain": [
       "<Figure size 432x288 with 1 Axes>"
      ]
     },
     "metadata": {
      "needs_background": "light"
     },
     "output_type": "display_data"
    }
   ],
   "source": [
    "# Data visualization\n",
    "# from data to vector\n",
    "x = test[\"Age\"].to_numpy()\n",
    "y = test[\"Children\"].to_numpy()\n",
    "\n",
    "plt.scatter(x, y)"
   ]
  },
  {
   "cell_type": "code",
   "execution_count": 14,
   "metadata": {},
   "outputs": [],
   "source": [
    "k = 1   #number of predictors, remember theta_0 is for the bias since x_o is always 1\n",
    "\n",
    "sh=np.shape(x)\n",
    "m=sh[0] #number of observations in the training data\n",
    "\n",
    "x=np.reshape(x, (m,1)) #predictors\n",
    "y=np.reshape(y, (m,1)) #labels\n",
    "ones = np.ones ((m,1)) #for the bias x_0\n",
    "\n",
    "X = np.concatenate((ones,x),axis=1) #matrix of training data\n",
    "\n",
    "theta = np.random.rand(k+1,1)\n",
    "\n",
    "#print(theta)\n",
    "#print(X)"
   ]
  },
  {
   "cell_type": "code",
   "execution_count": 15,
   "metadata": {},
   "outputs": [
    {
     "name": "stdout",
     "output_type": "stream",
     "text": [
      "0.000951676619741153\n",
      "[[-14.62891245]\n",
      " [  0.47762092]]\n"
     ]
    }
   ],
   "source": [
    "def sigmoid(x):\n",
    "    return 1 / (1 + np.exp(-x))\n",
    "\n",
    "epsilon=1.0E-03\n",
    "alpha=0.1\n",
    "diff=epsilon+1\n",
    "theta_old=theta;\n",
    "\n",
    "while diff > epsilon:\n",
    "    theta_old=theta\n",
    "    error=sigmoid(np.dot(X,theta))-y\n",
    "    theta = theta_old - (alpha/m)*np.dot(np.transpose(X),error)\n",
    "    diff = np.linalg.norm(theta_old-theta)\n",
    "    \n",
    "#print(error)\n",
    "print(diff)\n",
    "print(theta)"
   ]
  },
  {
   "cell_type": "code",
   "execution_count": 16,
   "metadata": {},
   "outputs": [
    {
     "data": {
      "text/plain": [
       "<matplotlib.collections.PathCollection at 0x1e84e714fd0>"
      ]
     },
     "execution_count": 16,
     "metadata": {},
     "output_type": "execute_result"
    },
    {
     "data": {
      "image/png": "[encoded data removed]",
      "text/plain": [
       "<Figure size 432x288 with 1 Axes>"
      ]
     },
     "metadata": {
      "needs_background": "light"
     },
     "output_type": "display_data"
    }
   ],
   "source": [
    "#trained model visualization\n",
    "x_graph = np.linspace(0, 100, 101)\n",
    "x_graph=np.reshape(x_graph, (101,1)) #predictors\n",
    "ones = np.ones ((101,1)) #for the bias x_0\n",
    "X_graph = np.concatenate((ones,x_graph),axis=1) #matrix of training data\n",
    "\n",
    "z_graph = sigmoid(np.dot(X_graph,theta))\n",
    "\n",
    "plt.plot(x_graph, z_graph, c=\"red\")\n",
    "plt.xlabel(\"x\")\n",
    "plt.ylabel(\"Sigmoid(X)\")\n",
    "x = test[\"Age\"].to_numpy()\n",
    "y = test[\"Children\"].to_numpy()\n",
    "plt.scatter(x, y, c=\"blue\")"
   ]
  },
  {
   "cell_type": "code",
   "execution_count": 96,
   "metadata": {},
   "outputs": [
    {
     "name": "stdout",
     "output_type": "stream",
     "text": [
      "              NOI    DSCR      LTV      Balance   Rate     Fee  \\\n",
      "0    6.973990e+05  1.3500  69.4000   7250000.00  5.250  0.0312   \n",
      "1    1.088638e+06  1.3600  61.3000   9100000.00  5.520  0.0312   \n",
      "2    6.180810e+05  1.3100  66.0000   6650000.00  5.450  0.0312   \n",
      "3    2.606950e+05  1.5500  64.2000   2600000.00  5.210  0.1112   \n",
      "4    6.071330e+05  1.2600  65.8000   6500000.00  5.290  0.0312   \n",
      "..            ...     ...      ...          ...    ...     ...   \n",
      "964  2.361860e+06  1.2332  70.6066  18809602.27  8.880  0.0624   \n",
      "965  4.797290e+05  1.3119  75.2637   4064239.35  8.050  0.0624   \n",
      "966  1.288235e+06  1.1981  78.3858  10268534.52  8.315  0.0624   \n",
      "967  4.515430e+05  1.2488  74.2306   3711531.69  7.875  0.0624   \n",
      "968  9.259220e+05  1.3018  64.8609   6810392.89  8.630  0.0924   \n",
      "\n",
      "     Net_Mortgage_Rate  Year_Built  Renovation  Occupancy    ZipPop  \\\n",
      "0               5.2188      1998.0       100.0    22919.0  7.663725   \n",
      "1               5.4888      1984.0        95.4    23129.0  8.779339   \n",
      "2               5.4188      2001.0        87.2    32504.0  7.358107   \n",
      "3               5.0988      1965.0       100.0    32376.0  7.781940   \n",
      "4               5.2588      1970.0       100.0    12942.0  7.404061   \n",
      "..                 ...         ...         ...        ...       ...   \n",
      "964             8.8176      1907.0       100.0     5846.0  8.865843   \n",
      "965             7.9876      1964.0       100.0    31024.0  8.883870   \n",
      "966             8.2526      1970.0       100.0    12590.0  9.833855   \n",
      "967             7.8126      1989.0       100.0    19218.0  9.030860   \n",
      "968             8.5376      1974.0       100.0    19245.0  8.818305   \n",
      "\n",
      "             CR        CS  CS_Ratio  NOI_Ratio  PV_Ratio    IR  \n",
      "0    351.880464  1.136903  4.144921   0.143158  0.127688   5.0  \n",
      "1    463.441807  1.502204  4.144921   0.310453  0.242793  21.0  \n",
      "2    293.888839  1.076208  4.419219   0.110992  0.101224   2.0  \n",
      "3    353.971808  3.315033  4.242222   0.117658  0.080235  40.0  \n",
      "4    316.183875  2.961139  4.242222   0.274014  0.196397   4.0  \n",
      "..          ...       ...       ...        ...       ...   ...  \n",
      "964  267.787388  1.311378  6.187969   0.755742  0.659331   1.0  \n",
      "965  280.164815  1.070239  6.082222   0.100297  0.087701   4.0  \n",
      "966  390.947996  1.605124  5.924375   0.349309  0.287741   2.0  \n",
      "967  313.882875  1.057568  5.892031   0.318033  0.288973  11.0  \n",
      "968  231.513016  1.253573  6.503175   0.269555  0.229872   1.0  \n",
      "\n",
      "[969 rows x 17 columns]\n"
     ]
    }
   ],
   "source": [
    "# Read data from LOSS.mat\n",
    "mat_loss = loadmat(data_folder + r'\\LOSS.mat')\n",
    "loss_matrix = mat_loss['LOSS']\n",
    "loss_matrix = np.matrix(loss_matrix)\n",
    "\n",
    "# Convert into a Pandas Data Frame\n",
    "loss = pd.DataFrame(loss_matrix, columns=['NOI', 'DSCR', 'LTV', 'Balance', \n",
    "                                        'Rate', 'Fee','Net_Mortgage_Rate', 'Year_Built', \n",
    "                                        'Renovation','Occupancy', 'ZipPop', 'CR', 'CS', \n",
    "                                        'CS_Ratio','NOI_Ratio', 'PV_Ratio', 'IR'])\n",
    "\n",
    "print(loss)\n",
    "\n"
   ]
  },
  {
   "cell_type": "code",
   "execution_count": 97,
   "metadata": {},
   "outputs": [
    {
     "name": "stdout",
     "output_type": "stream",
     "text": [
      "              NOI    DSCR      LTV      Balance   Rate     Fee  \\\n",
      "0    6.973990e+05  1.3500  69.4000   7250000.00  5.250  0.0312   \n",
      "1    1.088638e+06  1.3600  61.3000   9100000.00  5.520  0.0312   \n",
      "2    6.180810e+05  1.3100  66.0000   6650000.00  5.450  0.0312   \n",
      "3    2.606950e+05  1.5500  64.2000   2600000.00  5.210  0.1112   \n",
      "4    6.071330e+05  1.2600  65.8000   6500000.00  5.290  0.0312   \n",
      "..            ...     ...      ...          ...    ...     ...   \n",
      "964  2.361860e+06  1.2332  70.6066  18809602.27  8.880  0.0624   \n",
      "965  4.797290e+05  1.3119  75.2637   4064239.35  8.050  0.0624   \n",
      "966  1.288235e+06  1.1981  78.3858  10268534.52  8.315  0.0624   \n",
      "967  4.515430e+05  1.2488  74.2306   3711531.69  7.875  0.0624   \n",
      "968  9.259220e+05  1.3018  64.8609   6810392.89  8.630  0.0924   \n",
      "\n",
      "     Net_Mortgage_Rate  Year_Built  Renovation  Occupancy    ZipPop  \\\n",
      "0               5.2188      1998.0       100.0    22919.0  7.663725   \n",
      "1               5.4888      1984.0        95.4    23129.0  8.779339   \n",
      "2               5.4188      2001.0        87.2    32504.0  7.358107   \n",
      "3               5.0988      1965.0       100.0    32376.0  7.781940   \n",
      "4               5.2588      1970.0       100.0    12942.0  7.404061   \n",
      "..                 ...         ...         ...        ...       ...   \n",
      "964             8.8176      1907.0       100.0     5846.0  8.865843   \n",
      "965             7.9876      1964.0       100.0    31024.0  8.883870   \n",
      "966             8.2526      1970.0       100.0    12590.0  9.833855   \n",
      "967             7.8126      1989.0       100.0    19218.0  9.030860   \n",
      "968             8.5376      1974.0       100.0    19245.0  8.818305   \n",
      "\n",
      "             CR        CS  CS_Ratio  NOI_Ratio  PV_Ratio    IR  \n",
      "0    351.880464  1.136903  4.144921   0.143158  0.127688   5.0  \n",
      "1    463.441807  1.502204  4.144921   0.310453  0.242793  21.0  \n",
      "2    293.888839  1.076208  4.419219   0.110992  0.101224   2.0  \n",
      "3    353.971808  3.315033  4.242222   0.117658  0.080235  40.0  \n",
      "4    316.183875  2.961139  4.242222   0.274014  0.196397   4.0  \n",
      "..          ...       ...       ...        ...       ...   ...  \n",
      "964  267.787388  1.311378  6.187969   0.755742  0.659331   1.0  \n",
      "965  280.164815  1.070239  6.082222   0.100297  0.087701   4.0  \n",
      "966  390.947996  1.605124  5.924375   0.349309  0.287741   2.0  \n",
      "967  313.882875  1.057568  5.892031   0.318033  0.288973  11.0  \n",
      "968  231.513016  1.253573  6.503175   0.269555  0.229872   1.0  \n",
      "\n",
      "[969 rows x 17 columns]\n"
     ]
    }
   ],
   "source": [
    "# Read data from PAY.mat\n",
    "mat_pay = loadmat(data_folder + r'\\PAY.mat')\n",
    "pay_matrix = mat_pay['PAY']\n",
    "pay_matrix = np.matrix(loss_matrix)\n",
    "\n",
    "# Convert into a Pandas Data Frame\n",
    "pay = pd.DataFrame(loss_matrix, columns=['NOI', 'DSCR', 'LTV', 'Balance', \n",
    "                                        'Rate', 'Fee','Net_Mortgage_Rate', 'Year_Built', \n",
    "                                        'Renovation','Occupancy', 'ZipPop', 'CR', 'CS', \n",
    "                                        'CS_Ratio','NOI_Ratio', 'PV_Ratio', 'IR'])\n",
    "\n",
    "print(pay)"
   ]
  }
 ],
 "metadata": {
  "interpreter": {
   "hash": "4b7eec4c2e4729699d3902cd476885cff76cced32e2e0591bab94044ee16dad2"
  },
  "kernelspec": {
   "display_name": "Python 3 (ipykernel)",
   "language": "python",
   "name": "python3"
  },
  "language_info": {
   "codemirror_mode": {
    "name": "ipython",
    "version": 3
   },
   "file_extension": ".py",
   "mimetype": "text/x-python",
   "name": "python",
   "nbconvert_exporter": "python",
   "pygments_lexer": "ipython3",
   "version": "3.8.3"
  }
 },
 "nbformat": 4,
 "nbformat_minor": 2
}
