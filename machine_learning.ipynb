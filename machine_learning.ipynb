{
 "cells": [
  {
   "cell_type": "markdown",
   "metadata": {},
   "source": [
    "# Introduction to Machine Learning - PROJECT"
   ]
  },
  {
   "cell_type": "markdown",
   "metadata": {
    "scrolled": false
   },
   "source": [
    "Authors: Aino Liukonnen and Raúl Cruz-Oliver"
   ]
  },
  {
   "cell_type": "code",
   "execution_count": 7,
   "metadata": {},
   "outputs": [],
   "source": [
    "import pandas as pd\n",
    "# Documentation\n",
    "# https://pandas.pydata.org/docs\n",
    "\n",
    "import matplotlib.pyplot as plt\n",
    "import numpy as np"
   ]
  },
  {
   "cell_type": "code",
   "execution_count": 21,
   "metadata": {},
   "outputs": [],
   "source": [
    "# Import Data\n",
    "test = pd.read_excel (r'C:\\Users\\lenovo\\Desktop\\S7-DE\\Introduction to Machine Learning\\machine_learning_project\\DATA\\test.xlsx')\n",
    "#this is only my path, add yours as a comment\n",
    "\n",
    "#print(test)\n"
   ]
  },
  {
   "cell_type": "code",
   "execution_count": 73,
   "metadata": {},
   "outputs": [
    {
     "data": {
      "text/plain": [
       "<matplotlib.collections.PathCollection at 0x208a8355610>"
      ]
     },
     "execution_count": 73,
     "metadata": {},
     "output_type": "execute_result"
    },
    {
     "data": {
      "image/png": "[encoded data removed]",
      "text/plain": [
       "<Figure size 432x288 with 1 Axes>"
      ]
     },
     "metadata": {
      "needs_background": "light"
     },
     "output_type": "display_data"
    }
   ],
   "source": [
    "# Data visualization\n",
    "# from data to vector\n",
    "x = test[\"Age\"].to_numpy()\n",
    "y = test[\"Children\"].to_numpy()\n",
    "\n",
    "plt.scatter(x, y)"
   ]
  },
  {
   "cell_type": "code",
   "execution_count": 76,
   "metadata": {},
   "outputs": [
    {
     "name": "stdout",
     "output_type": "stream",
     "text": [
      "[[0.96015301]\n",
      " [0.45106219]]\n",
      "[[ 1.  5.]\n",
      " [ 1. 25.]\n",
      " [ 1. 55.]\n",
      " [ 1. 35.]\n",
      " [ 1. 12.]\n",
      " [ 1. 75.]\n",
      " [ 1. 65.]\n",
      " [ 1. 21.]\n",
      " [ 1. 92.]\n",
      " [ 1. 37.]\n",
      " [ 1. 49.]\n",
      " [ 1.  9.]\n",
      " [ 1. 27.]\n",
      " [ 1. 68.]\n",
      " [ 1. 38.]\n",
      " [ 1. 57.]\n",
      " [ 1. 56.]\n",
      " [ 1. 23.]\n",
      " [ 1. 18.]]\n"
     ]
    }
   ],
   "source": [
    "k = 1   #number of predictors, remember theta_0 is for the bias since x_o is always 1\n",
    "\n",
    "sh=np.shape(x)\n",
    "m=sh[0] #number of observations in the training data\n",
    "\n",
    "x=np.reshape(x, (m,1)) #predictors\n",
    "y=np.reshape(y, (m,1)) #labels\n",
    "ones = np.ones ((m,1)) #for the bias x_0\n",
    "\n",
    "X = np.concatenate((ones,x),axis=1) #matrix of training data\n",
    "\n",
    "theta = np.random.rand(k+1,1)\n",
    "\n",
    "#print(theta)\n",
    "#print(X)"
   ]
  },
  {
   "cell_type": "code",
   "execution_count": 98,
   "metadata": {},
   "outputs": [
    {
     "name": "stdout",
     "output_type": "stream",
     "text": [
      "0.0009310294738678833\n",
      "[[-14.52125833]\n",
      " [  0.47415708]]\n"
     ]
    }
   ],
   "source": [
    "def sigmoid(x):\n",
    "    return 1 / (1 + np.exp(-x))\n",
    "\n",
    "epsilon=1.0E-03\n",
    "alpha=0.1\n",
    "diff=epsilon+1\n",
    "theta_old=theta;\n",
    "\n",
    "while diff > epsilon:\n",
    "    theta_old=theta\n",
    "    error=sigmoid(np.dot(X,theta))-y\n",
    "    theta = theta_old - (alpha/m)*np.dot(np.transpose(X),error)\n",
    "    diff = np.linalg.norm(theta_old-theta)\n",
    "    \n",
    "#print(error)\n",
    "print(diff)\n",
    "print(theta)"
   ]
  },
  {
   "cell_type": "code",
   "execution_count": 106,
   "metadata": {},
   "outputs": [
    {
     "data": {
      "text/plain": [
       "<matplotlib.collections.PathCollection at 0x208a88b7220>"
      ]
     },
     "execution_count": 106,
     "metadata": {},
     "output_type": "execute_result"
    },
    {
     "data": {
      "image/png": "[encoded data removed]",
      "text/plain": [
       "<Figure size 432x288 with 1 Axes>"
      ]
     },
     "metadata": {
      "needs_background": "light"
     },
     "output_type": "display_data"
    }
   ],
   "source": [
    "#trained model visualization\n",
    "x_graph = np.linspace(0, 100, 101)\n",
    "x_graph=np.reshape(x_graph, (101,1)) #predictors\n",
    "ones = np.ones ((101,1)) #for the bias x_0\n",
    "X_graph = np.concatenate((ones,x_graph),axis=1) #matrix of training data\n",
    "\n",
    "z_graph = sigmoid(np.dot(X_graph,theta))\n",
    "\n",
    "plt.plot(x_graph, z_graph, c=\"red\")\n",
    "plt.xlabel(\"x\")\n",
    "plt.ylabel(\"Sigmoid(X)\")\n",
    "x = test[\"Age\"].to_numpy()\n",
    "y = test[\"Children\"].to_numpy()\n",
    "plt.scatter(x, y, c=\"blue\")"
   ]
  },
  {
   "cell_type": "code",
   "execution_count": null,
   "metadata": {},
   "outputs": [],
   "source": []
  }
 ],
 "metadata": {
  "interpreter": {
   "hash": "4b7eec4c2e4729699d3902cd476885cff76cced32e2e0591bab94044ee16dad2"
  },
  "kernelspec": {
   "display_name": "Python 3 (ipykernel)",
   "language": "python",
   "name": "python3"
  },
  "language_info": {
   "codemirror_mode": {
    "name": "ipython",
    "version": 3
   },
   "file_extension": ".py",
   "mimetype": "text/x-python",
   "name": "python",
   "nbconvert_exporter": "python",
   "pygments_lexer": "ipython3",
   "version": "3.9.7"
  }
 },
 "nbformat": 4,
 "nbformat_minor": 2
}
