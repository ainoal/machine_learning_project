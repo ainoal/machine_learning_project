{
 "cells": [
  {
   "cell_type": "markdown",
   "metadata": {},
   "source": [
    "# Introduction to Machine Learning - PROJECT"
   ]
  },
  {
   "cell_type": "markdown",
   "metadata": {
    "scrolled": false
   },
   "source": [
    "Authors: Aino Liukkonen and Raúl Cruz-Oliver"
   ]
  },
  {
   "cell_type": "code",
   "execution_count": 2,
   "metadata": {},
   "outputs": [],
   "source": [
    "%reset -f\n",
    "\n",
    "import pandas as pd\n",
    "# Documentation\n",
    "# https://pandas.pydata.org/docs\n",
    "\n",
    "import matplotlib.pyplot as plt\n",
    "import numpy as np\n",
    "from scipy.io import loadmat\n",
    "from sklearn import model_selection\n",
    "from sklearn import metrics\n",
    "from sklearn.preprocessing import StandardScaler\n",
    "from sklearn.model_selection import KFold\n",
    "from sklearn.ensemble import RandomForestClassifier\n",
    "from mlxtend.feature_selection import SequentialFeatureSelector as sfs\n",
    "# pip install statsmodels if you want to execute the blocks using statsmodels.api\n",
    "import statsmodels.api as sm"
   ]
  },
  {
   "cell_type": "markdown",
   "metadata": {},
   "source": [
    "## TEST EXAMPLE"
   ]
  },
  {
   "cell_type": "code",
   "execution_count": 3,
   "metadata": {},
   "outputs": [],
   "source": [
    "# Our respective DATA folder paths\n",
    "#data_folder = r'C:\\Users\\lenovo\\Desktop\\S7-DE\\Introduction to Machine Learning\\machine_learning_project\\DATA'\n",
    "data_folder = r'C:\\Users\\ainol\\OneDrive\\Tiedostot\\TutaJaOhtu\\Machine_Learning\\course_project\\DATA'\n",
    "\n",
    "# Import Data\n",
    "test = pd.read_excel(data_folder + r'\\test.xlsx') #once we define the folder, the path is the same\n",
    "\n"
   ]
  },
  {
   "cell_type": "code",
   "execution_count": 4,
   "metadata": {},
   "outputs": [
    {
     "data": {
      "text/plain": [
       "<matplotlib.collections.PathCollection at 0x1b3c6b766a0>"
      ]
     },
     "execution_count": 4,
     "metadata": {},
     "output_type": "execute_result"
    },
    {
     "data": {
      "image/png": "[encoded data removed]",
      "text/plain": [
       "<Figure size 432x288 with 1 Axes>"
      ]
     },
     "metadata": {
      "needs_background": "light"
     },
     "output_type": "display_data"
    }
   ],
   "source": [
    "# Data visualization\n",
    "\n",
    "# from data to vector\n",
    "#x = test[\"Age\"].to_numpy()\n",
    "#y = test[\"Children\"].to_numpy()\n",
    "\n",
    "\n",
    "x = test[\"Age\"].array\n",
    "y = test[\"Children\"].array\n",
    "\n",
    "\n",
    "\n",
    "plt.scatter(x, y)"
   ]
  },
  {
   "cell_type": "code",
   "execution_count": 5,
   "metadata": {},
   "outputs": [],
   "source": [
    "k = 1   #number of predictors, remember theta_0 is for the bias since x_o is always 1\n",
    "\n",
    "sh=np.shape(x)\n",
    "m=sh[0] #number of observations in the training data\n",
    "\n",
    "#x=np.reshape(x, (m,1)) #predictors\n",
    "x = x.reshape(-1, 1) \n",
    "\n",
    "#y=np.reshape(y, (m,1)) #labels\n",
    "y = y.reshape(-1, 1) \n",
    "\n",
    "ones = np.ones ((m,1)) #for the bias x_0\n",
    "\n",
    "X = np.concatenate((ones,x),axis=1) #matrix of training data\n",
    "\n",
    "theta = np.random.rand(k+1,1)\n",
    "\n",
    "#print(theta)\n",
    "#print(X)"
   ]
  },
  {
   "cell_type": "code",
   "execution_count": 6,
   "metadata": {},
   "outputs": [],
   "source": [
    "# logistic training\n",
    "\n",
    "def sigmoid(z):\n",
    "    return 1 / (1 + np.exp(-z))\n",
    "\n",
    "def logistic_train(theta,X,y):   \n",
    "    epsilon=1.0E-03\n",
    "    alpha=0.1\n",
    "    diff=epsilon+1\n",
    "    theta_old=theta\n",
    "    c=0\n",
    "    while diff > epsilon:\n",
    "        theta_old=theta\n",
    "        error=sigmoid(np.dot(X,theta))-y\n",
    "        theta = theta_old - (alpha/m)*np.dot(np.transpose(X),error)\n",
    "        diff = np.linalg.norm(theta_old-theta)\n",
    "        c=c+1\n",
    "        if c == 10000:\n",
    "            return theta\n",
    "    return theta\n",
    "\n",
    "theta=logistic_train(theta,X,y)    \n"
   ]
  },
  {
   "cell_type": "code",
   "execution_count": 7,
   "metadata": {},
   "outputs": [
    {
     "data": {
      "text/plain": [
       "<matplotlib.collections.PathCollection at 0x1b3c6c2af70>"
      ]
     },
     "execution_count": 7,
     "metadata": {},
     "output_type": "execute_result"
    },
    {
     "data": {
      "image/png": "[encoded data removed]",
      "text/plain": [
       "<Figure size 432x288 with 1 Axes>"
      ]
     },
     "metadata": {
      "needs_background": "light"
     },
     "output_type": "display_data"
    }
   ],
   "source": [
    "#trained model visualization\n",
    "x_graph = np.linspace(0, 100, 101)\n",
    "x_graph=np.reshape(x_graph, (101,1)) #predictors\n",
    "ones = np.ones ((101,1)) #for the bias x_0\n",
    "X_graph = np.concatenate((ones,x_graph),axis=1) #matrix of training data\n",
    "\n",
    "z_graph = sigmoid(np.dot(X_graph,theta))\n",
    "\n",
    "plt.plot(x_graph, z_graph, c=\"red\")\n",
    "plt.xlabel(\"x\")\n",
    "plt.ylabel(\"Sigmoid(X)\")\n",
    "x = test[\"Age\"].to_numpy()\n",
    "y = test[\"Children\"].to_numpy()\n",
    "plt.scatter(x, y, c=\"blue\")"
   ]
  },
  {
   "cell_type": "code",
   "execution_count": 8,
   "metadata": {},
   "outputs": [
    {
     "name": "stdout",
     "output_type": "stream",
     "text": [
      "[0 0 1 1 0 1 1 0 1 1 1 0 0 1 1 1 1 0 0]\n",
      "[0. 0. 1. 1. 0. 1. 1. 0. 1. 1. 1. 0. 0. 1. 1. 1. 1. 0. 0.]\n"
     ]
    }
   ],
   "source": [
    "#PREDICTION\n",
    "\n",
    "threshold = 0.5 #limit where sth is clasify as 1 and not anymore as 0\n",
    "\n",
    "y_predict = sigmoid(np.dot(X,theta))\n",
    "\n",
    "y_p = np.zeros(m)\n",
    "\n",
    "for i in range(1,m):\n",
    "    if y_predict[i]>threshold:\n",
    "        y_p[i]=1\n",
    "        \n",
    "print(y)\n",
    "print(y_p)\n",
    "        \n",
    "#y labelling\n",
    "#y_predict return from the sigmoid\n",
    "#y_p prediction based on a fixed threshold\n"
   ]
  },
  {
   "cell_type": "code",
   "execution_count": 9,
   "metadata": {},
   "outputs": [
    {
     "name": "stdout",
     "output_type": "stream",
     "text": [
      "F-measure: 1.0\n",
      "Kappa: 1.0\n",
      "AUC: 1.0\n",
      "              precision    recall  f1-score   support\n",
      "\n",
      "           0       1.00      1.00      1.00         8\n",
      "           1       1.00      1.00      1.00        11\n",
      "\n",
      "    accuracy                           1.00        19\n",
      "   macro avg       1.00      1.00      1.00        19\n",
      "weighted avg       1.00      1.00      1.00        19\n",
      "\n"
     ]
    }
   ],
   "source": [
    "#EVALUATING THE MODEL\n",
    "\n",
    "#F-MEASURE\n",
    "print(\"F-measure:\" , metrics.f1_score(y,y_p))\n",
    "#the closer to 1, the better the performance is\n",
    "\n",
    "#K-STATISTIC\n",
    "print(\"Kappa:\",metrics.cohen_kappa_score(y, y_p))\n",
    "#the closer to 1, the better the performance is\n",
    "\n",
    "#AREA UNDER CURVE (AUC), FROM RECEIVING OPERATION CHARACTERISTIC (ROC)\n",
    "print(\"AUC:\",metrics.roc_auc_score(y,y_p))\n",
    "# if AUC>0.5 it means the classificator is better than a random process. Perfect classificator <=> AUC=1\n",
    "\n",
    "#other metrics\n",
    "print(metrics.classification_report(y,y_p))"
   ]
  },
  {
   "cell_type": "markdown",
   "metadata": {},
   "source": [
    "## ACTUAL DATA IMPORT AND PREPROCESS"
   ]
  },
  {
   "cell_type": "code",
   "execution_count": 10,
   "metadata": {
    "scrolled": true
   },
   "outputs": [
    {
     "name": "stdout",
     "output_type": "stream",
     "text": [
      "(1800, 18)\n"
     ]
    },
    {
     "name": "stderr",
     "output_type": "stream",
     "text": [
      "C:\\Users\\ainol\\AppData\\Local\\Temp/ipykernel_16880/2623183014.py:57: SettingWithCopyWarning: \n",
      "A value is trying to be set on a copy of a slice from a DataFrame.\n",
      "Try using .loc[row_indexer,col_indexer] = value instead\n",
      "\n",
      "See the caveats in the documentation: https://pandas.pydata.org/pandas-docs/stable/user_guide/indexing.html#returning-a-view-versus-a-copy\n",
      "  filtered_LOSS['is_paid']=0\n"
     ]
    }
   ],
   "source": [
    "# Read data from LOSS.mat\n",
    "mat_loss = loadmat(data_folder + r'\\LOSS.mat')\n",
    "loss_matrix = mat_loss['LOSS']\n",
    "loss_matrix = np.matrix(loss_matrix)\n",
    "#select only the first  rows\n",
    "loss_matrix = loss_matrix[0:900,:] #trying to take balance data somehow\n",
    "# Convert into a Pandas Data Frame\n",
    "loss = pd.DataFrame(loss_matrix, columns=['NOI', 'DSCR', 'LTV', 'Balance', \n",
    "                                        'Rate', 'Fee','Net_Mortgage_Rate', 'Year_Built', \n",
    "                                        'Renovation','Occupancy', 'ZipPop', 'CR', 'CS', \n",
    "                                        'CS_Ratio','NOI_Ratio', 'PV_Ratio', 'IR'])\n",
    "\n",
    "# Read data from PAY.mat\n",
    "mat_pay = loadmat(data_folder + r'\\PAY.mat')\n",
    "pay_matrix = mat_pay['PAY']\n",
    "pay_matrix = np.matrix(pay_matrix)\n",
    "#select only the first rows\n",
    "pay_matrix = pay_matrix[0:900,:] #trying to take balance data somehow\n",
    "# Convert into a Pandas Data Frame\n",
    "pay = pd.DataFrame(pay_matrix, columns=['NOI', 'DSCR', 'LTV', 'Balance', \n",
    "                                        'Rate', 'Fee','Net_Mortgage_Rate', 'Year_Built', \n",
    "                                        'Renovation','Occupancy', 'ZipPop', 'CR', 'CS', \n",
    "                                        'CS_Ratio','NOI_Ratio', 'PV_Ratio', 'IR'])\n",
    "\n",
    "\n",
    "# Adding a column to the DataFrames; the value of the column represents whether the mortgage has been paid back or defaulted\n",
    "loss['is_paid'] = 0\n",
    "pay['is_paid'] = 1\n",
    "\n",
    "# Concatenate pay and loss data into one DataFrame\n",
    "data_frames = [pay, loss]\n",
    "pay_loss = pd.concat(data_frames)\n",
    "\n",
    "\n",
    "#What follows is the first way i founded to standarize the data\n",
    "#it is MANDATORY to do it all together with loss and pay\n",
    "#doing so, the is_paid column standarizes to -1,1, the code below just turn -1 to 0\n",
    "#i'd rather use 0 instead of -1 since the code is already desing for that label\n",
    "#probably there is more efficient way to code it\n",
    "\n",
    "scaler = StandardScaler()\n",
    "pay_loss_standarized = scaler.fit_transform(pay_loss) \n",
    "\n",
    "print(pay_loss_standarized.shape)\n",
    "\n",
    "pay_loss_STAND = pd.DataFrame(pay_loss_standarized, columns=['NOI', 'DSCR', 'LTV', 'Balance', \n",
    "                                        'Rate', 'Fee','Net_Mortgage_Rate', 'Year_Built', \n",
    "                                        'Renovation','Occupancy', 'ZipPop', 'CR', 'CS', \n",
    "                                        'CS_Ratio','NOI_Ratio', 'PV_Ratio', 'IR','is_paid'])\n",
    "\n",
    "PAY_CORRECT=pay_loss_STAND['is_paid']==1\n",
    "LOSS_CORRECT=pay_loss_STAND['is_paid']==-1\n",
    "\n",
    "filtered_PAY = pay_loss_STAND[PAY_CORRECT]\n",
    "filtered_LOSS = pay_loss_STAND[LOSS_CORRECT]\n",
    "\n",
    "filtered_LOSS['is_paid']=0\n",
    "\n",
    "data_frames = [filtered_PAY, filtered_LOSS]\n",
    "pay_loss = pd.concat(data_frames)\n",
    "        \n",
    "# Adding a column to the DataFrames for the independent bias x_o in the literature\n",
    "pay_loss['BIAS']=1\n"
   ]
  },
  {
   "cell_type": "code",
   "execution_count": 11,
   "metadata": {},
   "outputs": [],
   "source": [
    "# Split data into training and validation sets\n",
    "# Training data 70 %, validation data 30 %\n",
    "train_data, validation_data = model_selection.train_test_split(pay_loss, test_size=0.3) #automatically shuffle\n",
    "\n",
    "#NOTE: the shuffle is not considering the imbalanced data, maybe:\n",
    "    #1. reuse the 0 to balance the data\n",
    "    #2. divide the data taking into account the imbalance. e.g. 30% total = 30%pay + 30%loss. \n",
    "    #this idea would be also interesting to implement in the k-fold\n",
    "\n",
    "#intially implemented without taking care of this -> LET'S SEE WHAT HAPPENS\n",
    "    \n",
    "#within the training data, k-fold cross validation will be implemented to select the best parameters\n",
    "#validation set is only used to assess the model, no to select parameters"
   ]
  },
  {
   "cell_type": "code",
   "execution_count": 12,
   "metadata": {},
   "outputs": [],
   "source": [
    "#Input vector and labelling\n",
    "\n",
    "train_x = train_data[['BIAS','NOI', 'DSCR', 'LTV', 'Balance', \n",
    "                    'Rate', 'Fee','Net_Mortgage_Rate', 'Year_Built', \n",
    "                    'Renovation','Occupancy', 'ZipPop', 'CR', 'CS', \n",
    "                    'CS_Ratio','NOI_Ratio', 'PV_Ratio', 'IR']].to_numpy() #already proper shape\n",
    "train_y = train_data['is_paid'].to_numpy()\n",
    "train_y = train_y.reshape(-1, 1)    \n",
    "\n",
    "valid_x = validation_data[['BIAS','NOI', 'DSCR', 'LTV', 'Balance', \n",
    "                    'Rate', 'Fee','Net_Mortgage_Rate', 'Year_Built', \n",
    "                    'Renovation','Occupancy', 'ZipPop', 'CR', 'CS', \n",
    "                    'CS_Ratio','NOI_Ratio', 'PV_Ratio', 'IR']].to_numpy() #already proper shape\n",
    "valid_y = validation_data['is_paid'].to_numpy()\n",
    "valid_y = valid_y.reshape(-1, 1)    \n"
   ]
  },
  {
   "cell_type": "markdown",
   "metadata": {},
   "source": [
    "## IMPLEMENTATION OF THE LOGISTIC REGRESSION WITH THE ACTUAL DATA.\n",
    "All predictors initially (k=17)"
   ]
  },
  {
   "cell_type": "code",
   "execution_count": 13,
   "metadata": {},
   "outputs": [
    {
     "name": "stdout",
     "output_type": "stream",
     "text": [
      "AUC: 0.7551728528681481\n",
      "AUC: 0.7700888636793345\n",
      "AUC: 0.7813386273397618\n",
      "AUC: 0.7768939393939394\n",
      "AUC: 0.8081896551724138\n"
     ]
    }
   ],
   "source": [
    "#TRAINING WITH K-FOLD CROSS VALIDATION FOR PARAMETER SELECTION\n",
    "\n",
    "kf = KFold(n_splits=5)\n",
    "\n",
    "#print(kf)\n",
    "\n",
    "#print(kf.split(X))\n",
    "\n",
    "k=17; # DO IT AUTOMATICALLY, related with the number of predictors=number of columns apart from labelling or bias term\n",
    "threshold = 0.5\n",
    "\n",
    "for train_index, test_index in kf.split(train_x):\n",
    "    #print(\"TRAIN:\", train_index, \"TEST:\", test_index)\n",
    "    X_train_folded, X_test = train_x[train_index], train_x[test_index]\n",
    "    y_train_folded, y_test = train_y[train_index], train_y[test_index]\n",
    "    #model training and evaluation for every fold\n",
    "    theta = np.random.rand(k+1,1)\n",
    "    theta=logistic_train(theta,X_train_folded,y_train_folded)    \n",
    "    y_p = sigmoid(np.dot(X_test,theta))\n",
    "    #print(y_p.shape) to discover the 252\n",
    "    y_predict = np.zeros(252) #252 comes from size of test data, to be automated\n",
    "    for i in range(1,252): #this is just to control the threshold, no extrictly needed\n",
    "        if y_p[i]>threshold:\n",
    "            y_predict[i]=1\n",
    "    print(\"AUC:\",metrics.roc_auc_score(y_test,y_predict))\n",
    "    "
   ]
  },
  {
   "cell_type": "markdown",
   "metadata": {},
   "source": [
    "# CONCLUSION: \n",
    "my classificator is pretty shitty, but at least it classify things\n",
    "\n",
    "AUC need to be at leat around 0.7 for logistic regresion, the professor got that in his paper.\n",
    "\n",
    "now, we are around 0.5, or even worse, meaning that that a random even a random clasifier will perform better. :("
   ]
  },
  {
   "cell_type": "markdown",
   "metadata": {},
   "source": [
    "## SELECTION OF THE MOST RELEVANT VARIABLES"
   ]
  },
  {
   "attachments": {
    "image.png": {
     "image/png": "[encoded data removed]"
    }
   },
   "cell_type": "markdown",
   "metadata": {},
   "source": [
    "This information may be relevant\n",
    "![image.png](attachment:image.png) "
   ]
  },
  {
   "cell_type": "markdown",
   "metadata": {},
   "source": [
    "## Forward and Backward Stepwise Regression\n",
    "\n",
    "These need some adjusting, and I haven't quite figured out yet why my custom-made function selects different columns in\n",
    "backward selection than SequentialFeatureSelection. "
   ]
  },
  {
   "cell_type": "code",
   "execution_count": 34,
   "metadata": {},
   "outputs": [
    {
     "name": "stderr",
     "output_type": "stream",
     "text": [
      "[Parallel(n_jobs=1)]: Using backend SequentialBackend with 1 concurrent workers.\n",
      "[Parallel(n_jobs=1)]: Done   1 out of   1 | elapsed:    0.9s remaining:    0.0s\n",
      "[Parallel(n_jobs=1)]: Done  18 out of  18 | elapsed:   16.6s finished\n",
      "\n",
      "[2022-02-12 17:32:21] Features: 17/5 -- score: 0.8428571428571429[Parallel(n_jobs=1)]: Using backend SequentialBackend with 1 concurrent workers.\n",
      "[Parallel(n_jobs=1)]: Done   1 out of   1 | elapsed:    0.8s remaining:    0.0s\n",
      "[Parallel(n_jobs=1)]: Done  17 out of  17 | elapsed:   15.3s finished\n",
      "\n",
      "[2022-02-12 17:32:37] Features: 16/5 -- score: 0.8412698412698413[Parallel(n_jobs=1)]: Using backend SequentialBackend with 1 concurrent workers.\n",
      "[Parallel(n_jobs=1)]: Done   1 out of   1 | elapsed:    0.7s remaining:    0.0s\n",
      "[Parallel(n_jobs=1)]: Done  16 out of  16 | elapsed:   13.2s finished\n",
      "\n",
      "[2022-02-12 17:32:50] Features: 15/5 -- score: 0.8388888888888889[Parallel(n_jobs=1)]: Using backend SequentialBackend with 1 concurrent workers.\n",
      "[Parallel(n_jobs=1)]: Done   1 out of   1 | elapsed:    0.8s remaining:    0.0s\n",
      "[Parallel(n_jobs=1)]: Done  15 out of  15 | elapsed:   13.1s finished\n",
      "\n",
      "[2022-02-12 17:33:03] Features: 14/5 -- score: 0.8420634920634921[Parallel(n_jobs=1)]: Using backend SequentialBackend with 1 concurrent workers.\n",
      "[Parallel(n_jobs=1)]: Done   1 out of   1 | elapsed:    0.8s remaining:    0.0s\n",
      "[Parallel(n_jobs=1)]: Done  14 out of  14 | elapsed:   11.9s finished\n",
      "\n",
      "[2022-02-12 17:33:15] Features: 13/5 -- score: 0.8420634920634921[Parallel(n_jobs=1)]: Using backend SequentialBackend with 1 concurrent workers.\n",
      "[Parallel(n_jobs=1)]: Done   1 out of   1 | elapsed:    0.8s remaining:    0.0s\n",
      "[Parallel(n_jobs=1)]: Done  13 out of  13 | elapsed:   11.2s finished\n",
      "\n",
      "[2022-02-12 17:33:26] Features: 12/5 -- score: 0.8476190476190476[Parallel(n_jobs=1)]: Using backend SequentialBackend with 1 concurrent workers.\n",
      "[Parallel(n_jobs=1)]: Done   1 out of   1 | elapsed:    0.8s remaining:    0.0s\n",
      "[Parallel(n_jobs=1)]: Done  12 out of  12 | elapsed:   10.2s finished\n",
      "\n",
      "[2022-02-12 17:33:37] Features: 11/5 -- score: 0.8452380952380952[Parallel(n_jobs=1)]: Using backend SequentialBackend with 1 concurrent workers.\n",
      "[Parallel(n_jobs=1)]: Done   1 out of   1 | elapsed:    0.8s remaining:    0.0s\n",
      "[Parallel(n_jobs=1)]: Done  11 out of  11 | elapsed:    9.5s finished\n",
      "\n",
      "[2022-02-12 17:33:46] Features: 10/5 -- score: 0.8484126984126984[Parallel(n_jobs=1)]: Using backend SequentialBackend with 1 concurrent workers.\n",
      "[Parallel(n_jobs=1)]: Done   1 out of   1 | elapsed:    0.7s remaining:    0.0s\n",
      "[Parallel(n_jobs=1)]: Done  10 out of  10 | elapsed:    8.1s finished\n",
      "\n",
      "[2022-02-12 17:33:55] Features: 9/5 -- score: 0.8523809523809524[Parallel(n_jobs=1)]: Using backend SequentialBackend with 1 concurrent workers.\n",
      "[Parallel(n_jobs=1)]: Done   1 out of   1 | elapsed:    0.7s remaining:    0.0s\n",
      "[Parallel(n_jobs=1)]: Done   9 out of   9 | elapsed:    7.2s finished\n",
      "\n",
      "[2022-02-12 17:34:02] Features: 8/5 -- score: 0.8492063492063492[Parallel(n_jobs=1)]: Using backend SequentialBackend with 1 concurrent workers.\n",
      "[Parallel(n_jobs=1)]: Done   1 out of   1 | elapsed:    0.8s remaining:    0.0s\n",
      "[Parallel(n_jobs=1)]: Done   8 out of   8 | elapsed:    7.6s finished\n",
      "\n",
      "[2022-02-12 17:34:10] Features: 7/5 -- score: 0.846031746031746[Parallel(n_jobs=1)]: Using backend SequentialBackend with 1 concurrent workers.\n",
      "[Parallel(n_jobs=1)]: Done   1 out of   1 | elapsed:    0.8s remaining:    0.0s\n",
      "[Parallel(n_jobs=1)]: Done   7 out of   7 | elapsed:    5.7s finished\n",
      "\n",
      "[2022-02-12 17:34:15] Features: 6/5 -- score: 0.8507936507936508[Parallel(n_jobs=1)]: Using backend SequentialBackend with 1 concurrent workers.\n",
      "[Parallel(n_jobs=1)]: Done   1 out of   1 | elapsed:    0.7s remaining:    0.0s\n",
      "[Parallel(n_jobs=1)]: Done   6 out of   6 | elapsed:    4.4s finished\n",
      "\n",
      "[2022-02-12 17:34:20] Features: 5/5 -- score: 0.8523809523809524"
     ]
    }
   ],
   "source": [
    "# Build a Random Forest classifier for the feature selection\n",
    "# (Use a different model in the final version?)\n",
    "rfc = RandomForestClassifier(n_estimators=100, n_jobs=-1)\n",
    "\n",
    "backward_feature_selection = sfs(rfc,\n",
    "                                k_features=5,\n",
    "                                forward=False,\n",
    "                                floating=False,\n",
    "                                verbose=2,\n",
    "                                scoring='accuracy',\n",
    "                                cv=5)\n",
    "\n",
    "backward_feature_selection = backward_feature_selection.fit(train_x, train_data['is_paid'].to_numpy()) # train_y as a 1d vector"
   ]
  },
  {
   "cell_type": "code",
   "execution_count": 36,
   "metadata": {},
   "outputs": [
    {
     "name": "stdout",
     "output_type": "stream",
     "text": [
      "SELECTED COLUMNS: [0, 3, 6, 8, 14]\n"
     ]
    }
   ],
   "source": [
    "# Print out the selected features\n",
    "feat_columns = list(backward_feature_selection.k_feature_idx_)\n",
    "print(\"SELECTED COLUMNS:\", feat_columns)"
   ]
  },
  {
   "cell_type": "code",
   "execution_count": 99,
   "metadata": {},
   "outputs": [
    {
     "name": "stdout",
     "output_type": "stream",
     "text": [
      "                            OLS Regression Results                            \n",
      "==============================================================================\n",
      "Dep. Variable:                      y   R-squared:                       1.000\n",
      "Model:                            OLS   Adj. R-squared:                  1.000\n",
      "Method:                 Least Squares   F-statistic:                 1.292e+31\n",
      "Date:                Sat, 12 Feb 2022   Prob (F-statistic):               0.00\n",
      "Time:                        16:38:50   Log-Likelihood:                 41513.\n",
      "No. Observations:                1260   AIC:                        -8.299e+04\n",
      "Df Residuals:                    1242   BIC:                        -8.290e+04\n",
      "Df Model:                          17                                         \n",
      "Covariance Type:            nonrobust                                         \n",
      "=====================================================================================\n",
      "                        coef    std err          t      P>|t|      [0.025      0.975]\n",
      "-------------------------------------------------------------------------------------\n",
      "NOI               -1.388e-16   1.24e-16     -1.116      0.264   -3.83e-16    1.05e-16\n",
      "DSCR              -3.782e-16   4.43e-17     -8.535      0.000   -4.65e-16   -2.91e-16\n",
      "LTV               -8.413e-17   4.42e-17     -1.902      0.057   -1.71e-16    2.67e-18\n",
      "Balance           -5.551e-17   9.09e-17     -0.611      0.542   -2.34e-16    1.23e-16\n",
      "Rate               1.388e-17    1.2e-16      0.116      0.908   -2.21e-16    2.49e-16\n",
      "Fee                2.255e-17   3.55e-17      0.635      0.525   -4.71e-17    9.22e-17\n",
      "Net_Mortgage_Rate  6.939e-18   1.11e-16      0.063      0.950    -2.1e-16    2.24e-16\n",
      "Year_Built        -3.478e-16   3.53e-17     -9.843      0.000   -4.17e-16   -2.78e-16\n",
      "Renovation         1.839e-16   3.49e-17      5.261      0.000    1.15e-16    2.52e-16\n",
      "Occupancy         -3.747e-16   3.53e-17    -10.608      0.000   -4.44e-16   -3.05e-16\n",
      "ZipPop             2.108e-16   2.41e-17      8.740      0.000    1.63e-16    2.58e-16\n",
      "CR                -3.903e-17   2.19e-17     -1.781      0.075    -8.2e-17    3.95e-18\n",
      "CS                -5.725e-17   3.43e-17     -1.667      0.096   -1.25e-16    1.01e-17\n",
      "CS_Ratio           1.717e-16   4.62e-17      3.717      0.000    8.11e-17    2.62e-16\n",
      "NOI_Ratio         -3.469e-17    1.3e-16     -0.267      0.789    -2.9e-16     2.2e-16\n",
      "PV_Ratio           3.331e-16   1.44e-16      2.318      0.021    5.12e-17    6.15e-16\n",
      "IR                -1.821e-16   3.53e-17     -5.158      0.000   -2.51e-16   -1.13e-16\n",
      "is_paid               1.0000   8.45e-17   1.18e+16      0.000       1.000       1.000\n",
      "BIAS               4.103e-16   5.43e-17      7.558      0.000    3.04e-16    5.17e-16\n",
      "==============================================================================\n",
      "Omnibus:                       49.881   Durbin-Watson:                   0.867\n",
      "Prob(Omnibus):                  0.000   Jarque-Bera (JB):               82.715\n",
      "Skew:                          -0.323   Prob(JB):                     1.09e-18\n",
      "Kurtosis:                       4.076   Cond. No.                     1.36e+16\n",
      "==============================================================================\n",
      "\n",
      "Notes:\n",
      "[1] Standard Errors assume that the covariance matrix of the errors is correctly specified.\n",
      "[2] The smallest eigenvalue is 2.95e-29. This might indicate that there are\n",
      "strong multicollinearity problems or that the design matrix is singular.\n",
      "['NOI', 'DSCR', 'LTV', 'Balance', 'Rate', 'Fee', 'Net_Mortgage_Rate', 'Year_Built', 'Renovation', 'Occupancy', 'ZipPop', 'CR', 'CS', 'CS_Ratio', 'NOI_Ratio', 'PV_Ratio', 'IR', 'is_paid', 'BIAS']\n",
      "['NOI', 'DSCR', 'LTV', 'Balance', 'Rate', 'Fee', 'Year_Built', 'Renovation', 'Occupancy', 'ZipPop', 'CR', 'CS', 'CS_Ratio', 'NOI_Ratio', 'PV_Ratio', 'IR', 'is_paid', 'BIAS']\n",
      "['NOI', 'DSCR', 'LTV', 'Balance', 'Rate', 'Fee', 'Renovation', 'Occupancy', 'ZipPop', 'CR', 'CS', 'CS_Ratio', 'NOI_Ratio', 'PV_Ratio', 'IR', 'is_paid', 'BIAS']\n",
      "['NOI', 'DSCR', 'LTV', 'Balance', 'Rate', 'Fee', 'Occupancy', 'ZipPop', 'CR', 'CS', 'CS_Ratio', 'NOI_Ratio', 'PV_Ratio', 'IR', 'is_paid', 'BIAS']\n",
      "['NOI', 'DSCR', 'LTV', 'Balance', 'Rate', 'Fee', 'ZipPop', 'CR', 'CS', 'CS_Ratio', 'NOI_Ratio', 'PV_Ratio', 'IR', 'is_paid', 'BIAS']\n",
      "['NOI', 'DSCR', 'LTV', 'Balance', 'Rate', 'Fee', 'CR', 'CS', 'CS_Ratio', 'NOI_Ratio', 'PV_Ratio', 'IR', 'is_paid', 'BIAS']\n",
      "['NOI', 'DSCR', 'LTV', 'Balance', 'Rate', 'Fee', 'CS', 'CS_Ratio', 'NOI_Ratio', 'PV_Ratio', 'IR', 'is_paid', 'BIAS']\n",
      "['NOI', 'DSCR', 'LTV', 'Balance', 'Rate', 'Fee', 'CS_Ratio', 'NOI_Ratio', 'PV_Ratio', 'IR', 'is_paid', 'BIAS']\n",
      "['NOI', 'DSCR', 'LTV', 'Balance', 'Rate', 'Fee', 'NOI_Ratio', 'PV_Ratio', 'IR', 'is_paid', 'BIAS']\n",
      "['NOI', 'DSCR', 'LTV', 'Balance', 'Rate', 'Fee', 'PV_Ratio', 'IR', 'is_paid', 'BIAS']\n",
      "['NOI', 'DSCR', 'LTV', 'Balance', 'Rate', 'Fee', 'IR', 'is_paid', 'BIAS']\n",
      "['NOI', 'DSCR', 'LTV', 'Balance', 'Rate', 'Fee', 'is_paid', 'BIAS']\n",
      "['NOI', 'DSCR', 'LTV', 'Balance', 'Rate', 'Fee', 'BIAS']\n",
      "['NOI', 'DSCR', 'LTV', 'Balance', 'Rate', 'Fee']\n",
      "['NOI', 'DSCR', 'LTV', 'Balance', 'Fee']\n",
      "['NOI', 'DSCR', 'LTV', 'Balance']\n"
     ]
    }
   ],
   "source": [
    "# THE WHOLE BLOCK: TO BE DELETED LATER. Keeping for reference/ comparison for now\n",
    "\n",
    "#def get_stats(columns, train_y):\n",
    "#    stats = sm.OLS(train_y, columns).fit()\n",
    "#   print(stats.summary())\n",
    "#    return stats\n",
    "#get_stats(train_x, train_y)\n",
    "\n",
    "predictors = train_data\n",
    "pvalue_treshold = 0.05\n",
    "\n",
    "# Backward Stepwise Regression\n",
    "# Remove predictors until a certain treshold\n",
    "stats = sm.OLS(train_y, predictors).fit()\n",
    "print(stats.summary())\n",
    "while True:\n",
    "    largest_p = -1\n",
    "    to_remove = -1\n",
    "    # !!!! Here: Add something to assess how good each model is\n",
    "    for attrib_idx in range (0, len(predictors.columns)):\n",
    "        if (stats.pvalues[attrib_idx] > largest_p):\n",
    "            largest_p = stats.pvalues[attrib_idx]\n",
    "            to_remove = attrib_idx\n",
    "    if (to_remove == -1):\n",
    "        print('Error with p values\\n')\n",
    "    if to_remove < pvalue_treshold:  # Treshold?? Note: let's discuss this together\n",
    "        break\n",
    "    print(list(predictors.columns))\n",
    "    predictors = predictors.drop(predictors.columns[to_remove], axis=1) "
   ]
  },
  {
   "cell_type": "code",
   "execution_count": 37,
   "metadata": {},
   "outputs": [
    {
     "name": "stderr",
     "output_type": "stream",
     "text": [
      "[Parallel(n_jobs=1)]: Using backend SequentialBackend with 1 concurrent workers.\n",
      "[Parallel(n_jobs=1)]: Done   1 out of   1 | elapsed:    2.3s remaining:    0.0s\n",
      "[Parallel(n_jobs=1)]: Done  18 out of  18 | elapsed:   17.9s finished\n",
      "\n",
      "[2022-02-12 17:41:52] Features: 1/5 -- score: 0.8444444444444444[Parallel(n_jobs=1)]: Using backend SequentialBackend with 1 concurrent workers.\n",
      "[Parallel(n_jobs=1)]: Done   1 out of   1 | elapsed:    1.0s remaining:    0.0s\n",
      "[Parallel(n_jobs=1)]: Done  17 out of  17 | elapsed:   17.5s finished\n",
      "\n",
      "[2022-02-12 17:42:10] Features: 2/5 -- score: 0.8484126984126984[Parallel(n_jobs=1)]: Using backend SequentialBackend with 1 concurrent workers.\n",
      "[Parallel(n_jobs=1)]: Done   1 out of   1 | elapsed:    0.7s remaining:    0.0s\n",
      "[Parallel(n_jobs=1)]: Done  16 out of  16 | elapsed:   13.4s finished\n",
      "\n",
      "[2022-02-12 17:42:23] Features: 3/5 -- score: 0.8523809523809524[Parallel(n_jobs=1)]: Using backend SequentialBackend with 1 concurrent workers.\n",
      "[Parallel(n_jobs=1)]: Done   1 out of   1 | elapsed:    0.7s remaining:    0.0s\n",
      "[Parallel(n_jobs=1)]: Done  15 out of  15 | elapsed:   12.9s finished\n",
      "\n",
      "[2022-02-12 17:42:36] Features: 4/5 -- score: 0.8317460317460318[Parallel(n_jobs=1)]: Using backend SequentialBackend with 1 concurrent workers.\n",
      "[Parallel(n_jobs=1)]: Done   1 out of   1 | elapsed:    0.7s remaining:    0.0s\n",
      "[Parallel(n_jobs=1)]: Done  14 out of  14 | elapsed:   11.3s finished\n",
      "\n",
      "[2022-02-12 17:42:48] Features: 5/5 -- score: 0.8444444444444444"
     ]
    }
   ],
   "source": [
    "# Build a Random Forest classifier for the feature selection\n",
    "# (Use a different model in the final version?)\n",
    "rfc = RandomForestClassifier(n_estimators=100, n_jobs=-1)\n",
    "\n",
    "forward_feature_selection = sfs(rfc,\n",
    "                                k_features=5,\n",
    "                                forward=True,\n",
    "                                floating=False,\n",
    "                                verbose=2,\n",
    "                                scoring='accuracy',\n",
    "                                cv=5)\n",
    "\n",
    "forward_feature_selection = forward_feature_selection.fit(train_x, train_data['is_paid'].to_numpy()) # train_y as a 1d vector"
   ]
  },
  {
   "cell_type": "code",
   "execution_count": 38,
   "metadata": {},
   "outputs": [
    {
     "name": "stdout",
     "output_type": "stream",
     "text": [
      "SELECTED COLUMNS: [0, 3, 6, 12, 14]\n"
     ]
    }
   ],
   "source": [
    "# Print out the selected features\n",
    "feat_columns = list(forward_feature_selection.k_feature_idx_)\n",
    "print(\"SELECTED COLUMNS:\", feat_columns)"
   ]
  }
 ],
 "metadata": {
  "interpreter": {
   "hash": "4b7eec4c2e4729699d3902cd476885cff76cced32e2e0591bab94044ee16dad2"
  },
  "kernelspec": {
   "display_name": "Python 3 (ipykernel)",
   "language": "python",
   "name": "python3"
  },
  "language_info": {
   "codemirror_mode": {
    "name": "ipython",
    "version": 3
   },
   "file_extension": ".py",
   "mimetype": "text/x-python",
   "name": "python",
   "nbconvert_exporter": "python",
   "pygments_lexer": "ipython3",
   "version": "3.8.3"
  }
 },
 "nbformat": 4,
 "nbformat_minor": 2
}
