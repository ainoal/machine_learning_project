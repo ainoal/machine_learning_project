{
 "cells": [
  {
   "cell_type": "markdown",
   "metadata": {},
   "source": [
    "# Introduction to Machine Learning - PROJECT"
   ]
  },
  {
   "cell_type": "markdown",
   "metadata": {
    "scrolled": false
   },
   "source": [
    "Authors: Aino Liukkonen and Raúl Cruz-Oliver"
   ]
  },
  {
   "cell_type": "code",
   "execution_count": 121,
   "metadata": {},
   "outputs": [],
   "source": [
    "%reset -f\n",
    "\n",
    "import pandas as pd\n",
    "# Documentation\n",
    "# https://pandas.pydata.org/docs\n",
    "\n",
    "import matplotlib.pyplot as plt\n",
    "import numpy as np\n",
    "from scipy.io import loadmat\n",
    "from sklearn import model_selection\n",
    "from sklearn import metrics\n",
    "from sklearn.preprocessing import StandardScaler\n",
    "from sklearn.model_selection import KFold"
   ]
  },
  {
   "cell_type": "markdown",
   "metadata": {},
   "source": [
    "## TEST EXAMPLE"
   ]
  },
  {
   "cell_type": "code",
   "execution_count": 122,
   "metadata": {},
   "outputs": [],
   "source": [
    "# Our respective DATA folder paths\n",
    "data_folder = r'C:\\Users\\lenovo\\Desktop\\S7-DE\\Introduction to Machine Learning\\machine_learning_project\\DATA'\n",
    "#data_folder = r'C:\\Users\\ainol\\OneDrive\\Tiedostot\\TutaJaOhtu\\Machine_Learning\\course_project\\DATA'\n",
    "\n",
    "# Import Data\n",
    "test = pd.read_excel(data_folder + r'\\test.xlsx') #once we define the folder, the path is the same\n",
    "\n"
   ]
  },
  {
   "cell_type": "code",
   "execution_count": 123,
   "metadata": {},
   "outputs": [
    {
     "data": {
      "text/plain": [
       "<matplotlib.collections.PathCollection at 0x2a4abf18df0>"
      ]
     },
     "execution_count": 123,
     "metadata": {},
     "output_type": "execute_result"
    },
    {
     "data": {
      "image/png": "[encoded data removed]",
      "text/plain": [
       "<Figure size 432x288 with 1 Axes>"
      ]
     },
     "metadata": {
      "needs_background": "light"
     },
     "output_type": "display_data"
    }
   ],
   "source": [
    "# Data visualization\n",
    "\n",
    "# from data to vector\n",
    "#x = test[\"Age\"].to_numpy()\n",
    "#y = test[\"Children\"].to_numpy()\n",
    "\n",
    "\n",
    "x = test[\"Age\"].array\n",
    "y = test[\"Children\"].array\n",
    "\n",
    "\n",
    "\n",
    "plt.scatter(x, y)"
   ]
  },
  {
   "cell_type": "code",
   "execution_count": 124,
   "metadata": {},
   "outputs": [],
   "source": [
    "k = 1   #number of predictors, remember theta_0 is for the bias since x_o is always 1\n",
    "\n",
    "sh=np.shape(x)\n",
    "m=sh[0] #number of observations in the training data\n",
    "\n",
    "#x=np.reshape(x, (m,1)) #predictors\n",
    "x = x.reshape(-1, 1) \n",
    "\n",
    "#y=np.reshape(y, (m,1)) #labels\n",
    "y = y.reshape(-1, 1) \n",
    "\n",
    "ones = np.ones ((m,1)) #for the bias x_0\n",
    "\n",
    "X = np.concatenate((ones,x),axis=1) #matrix of training data\n",
    "\n",
    "theta = np.random.rand(k+1,1)\n",
    "\n",
    "#print(theta)\n",
    "#print(X)"
   ]
  },
  {
   "cell_type": "code",
   "execution_count": 125,
   "metadata": {},
   "outputs": [],
   "source": [
    "# logistic training\n",
    "\n",
    "def sigmoid(z):\n",
    "    return 1 / (1 + np.exp(-z))\n",
    "\n",
    "def logistic_train(theta,X,y):   \n",
    "    epsilon=1.0E-03\n",
    "    alpha=0.1\n",
    "    diff=epsilon+1\n",
    "    theta_old=theta\n",
    "    c=0;\n",
    "    while diff > epsilon:\n",
    "        theta_old=theta\n",
    "        error=sigmoid(np.dot(X,theta))-y\n",
    "        theta = theta_old - (alpha/m)*np.dot(np.transpose(X),error)\n",
    "        diff = np.linalg.norm(theta_old-theta)\n",
    "        c=c+1;\n",
    "        if c == 10000:\n",
    "            return theta\n",
    "    return theta\n",
    "\n",
    "theta=logistic_train(theta,X,y)    \n"
   ]
  },
  {
   "cell_type": "code",
   "execution_count": 126,
   "metadata": {},
   "outputs": [
    {
     "data": {
      "text/plain": [
       "<matplotlib.collections.PathCollection at 0x2a4abf0a610>"
      ]
     },
     "execution_count": 126,
     "metadata": {},
     "output_type": "execute_result"
    },
    {
     "data": {
      "image/png": "[encoded data removed]",
      "text/plain": [
       "<Figure size 432x288 with 1 Axes>"
      ]
     },
     "metadata": {
      "needs_background": "light"
     },
     "output_type": "display_data"
    }
   ],
   "source": [
    "#trained model visualization\n",
    "x_graph = np.linspace(0, 100, 101)\n",
    "x_graph=np.reshape(x_graph, (101,1)) #predictors\n",
    "ones = np.ones ((101,1)) #for the bias x_0\n",
    "X_graph = np.concatenate((ones,x_graph),axis=1) #matrix of training data\n",
    "\n",
    "z_graph = sigmoid(np.dot(X_graph,theta))\n",
    "\n",
    "plt.plot(x_graph, z_graph, c=\"red\")\n",
    "plt.xlabel(\"x\")\n",
    "plt.ylabel(\"Sigmoid(X)\")\n",
    "x = test[\"Age\"].to_numpy()\n",
    "y = test[\"Children\"].to_numpy()\n",
    "plt.scatter(x, y, c=\"blue\")"
   ]
  },
  {
   "cell_type": "code",
   "execution_count": 127,
   "metadata": {},
   "outputs": [
    {
     "name": "stdout",
     "output_type": "stream",
     "text": [
      "[0 0 1 1 0 1 1 0 1 1 1 0 0 1 1 1 1 0 0]\n",
      "[0. 0. 1. 1. 0. 1. 1. 0. 1. 1. 1. 0. 0. 1. 1. 1. 1. 0. 0.]\n"
     ]
    }
   ],
   "source": [
    "#PREDICTION\n",
    "\n",
    "threshold = 0.5 #limit where sth is clasify as 1 and not anymore as 0\n",
    "\n",
    "y_predict = sigmoid(np.dot(X,theta))\n",
    "\n",
    "y_p = np.zeros(m)\n",
    "\n",
    "for i in range(1,m):\n",
    "    if y_predict[i]>threshold:\n",
    "        y_p[i]=1\n",
    "        \n",
    "print(y)\n",
    "print(y_p)\n",
    "        \n",
    "#y labelling\n",
    "#y_predict return from the sigmoid\n",
    "#y_p prediction based on a fixed threshold\n"
   ]
  },
  {
   "cell_type": "code",
   "execution_count": 128,
   "metadata": {},
   "outputs": [
    {
     "name": "stdout",
     "output_type": "stream",
     "text": [
      "F-measure: 1.0\n",
      "Kappa: 1.0\n",
      "AUC: 1.0\n",
      "              precision    recall  f1-score   support\n",
      "\n",
      "           0       1.00      1.00      1.00         8\n",
      "           1       1.00      1.00      1.00        11\n",
      "\n",
      "    accuracy                           1.00        19\n",
      "   macro avg       1.00      1.00      1.00        19\n",
      "weighted avg       1.00      1.00      1.00        19\n",
      "\n"
     ]
    }
   ],
   "source": [
    "#EVALUATING THE MODEL\n",
    "\n",
    "#F-MEASURE\n",
    "print(\"F-measure:\" , metrics.f1_score(y,y_p))\n",
    "#the closer to 1, the better the performance is\n",
    "\n",
    "#K-STATISTIC\n",
    "print(\"Kappa:\",metrics.cohen_kappa_score(y, y_p))\n",
    "#the closer to 1, the better the performance is\n",
    "\n",
    "#AREA UNDER CURVE (AUC), FROM RECEIVING OPERATION CHARACTERISTIC (ROC)\n",
    "print(\"AUC:\",metrics.roc_auc_score(y,y_p))\n",
    "# if AUC>0.5 it means the classificator is better than a random process. Perfect classificator <=> AUC=1\n",
    "\n",
    "#other metrics\n",
    "print(metrics.classification_report(y,y_p))"
   ]
  },
  {
   "cell_type": "markdown",
   "metadata": {},
   "source": [
    "## ACTUAL DATA IMPORT AND PREPROCESS"
   ]
  },
  {
   "cell_type": "code",
   "execution_count": 129,
   "metadata": {
    "scrolled": true
   },
   "outputs": [
    {
     "name": "stdout",
     "output_type": "stream",
     "text": [
      "(1800, 19)\n"
     ]
    }
   ],
   "source": [
    "scaler = StandardScaler()\n",
    "\n",
    "# Read data from LOSS.mat\n",
    "mat_loss = loadmat(data_folder + r'\\LOSS.mat')\n",
    "loss_matrix = mat_loss['LOSS']\n",
    "loss_matrix = np.matrix(loss_matrix)\n",
    "#select only the first  rows\n",
    "loss_matrix = loss_matrix[0:900,:] #trying to take balance data somehow\n",
    "#standarize the data\n",
    "loss_standarized = scaler.fit_transform(loss_matrix) \n",
    "# Convert into a Pandas Data Frame\n",
    "loss = pd.DataFrame(loss_standarized, columns=['NOI', 'DSCR', 'LTV', 'Balance', \n",
    "                                        'Rate', 'Fee','Net_Mortgage_Rate', 'Year_Built', \n",
    "                                        'Renovation','Occupancy', 'ZipPop', 'CR', 'CS', \n",
    "                                        'CS_Ratio','NOI_Ratio', 'PV_Ratio', 'IR'])\n",
    "\n",
    "# Read data from PAY.mat\n",
    "mat_pay = loadmat(data_folder + r'\\PAY.mat')\n",
    "pay_matrix = mat_pay['PAY']\n",
    "pay_matrix = np.matrix(pay_matrix)\n",
    "#select only the first rows\n",
    "pay_matrix = pay_matrix[0:900,:] #trying to take balance data somehow\n",
    "#standarize the data\n",
    "pay_standarized = scaler.fit_transform(pay_matrix) \n",
    "# Convert into a Pandas Data Frame\n",
    "pay = pd.DataFrame(pay_standarized, columns=['NOI', 'DSCR', 'LTV', 'Balance', \n",
    "                                        'Rate', 'Fee','Net_Mortgage_Rate', 'Year_Built', \n",
    "                                        'Renovation','Occupancy', 'ZipPop', 'CR', 'CS', \n",
    "                                        'CS_Ratio','NOI_Ratio', 'PV_Ratio', 'IR'])\n",
    "\n",
    "\n",
    "# Adding a column to the DataFrames; the value of the column represents whether the mortgage has been payed back or defaulted\n",
    "loss['is_paid'] = 0\n",
    "pay['is_paid'] = 1\n",
    "\n",
    "# Concatenate pay and loss data into one DataFrame\n",
    "data_frames = [pay, loss]\n",
    "pay_loss = pd.concat(data_frames) # it is not shuffled BE CAREFUL\n",
    "\n",
    "# Adding a column to the DataFrames for the independent bias x_o in the literature\n",
    "pay_loss['BIAS']=1\n",
    "\n",
    "print(pay_loss.shape)\n",
    "\n",
    "#the data has been standarized before labelling and adding BIAS because:\n",
    "    #labelling is desidered to be 0 1 (tho -1,1 would be also interpretable)\n",
    "    #bias term need to be perforce set to 1\n"
   ]
  },
  {
   "cell_type": "code",
   "execution_count": 130,
   "metadata": {},
   "outputs": [],
   "source": [
    "# Split data into training and validation sets\n",
    "# Training data 70 %, validation data 30 %\n",
    "train_data, validation_data = model_selection.train_test_split(pay_loss, test_size=0.3) #automatically shuffle\n",
    "\n",
    "#NOTE: the shuffle is not considering the imbalanced data, maybe:\n",
    "    #1. reuse the 0 to balance the data\n",
    "    #2. divide the data taking into account the imbalance. e.g. 30% total = 30%pay + 30%loss. \n",
    "    #this idea would be also interesting to implement in the k-fold\n",
    "\n",
    "#intially implemented without taking care of this -> LET'S SEE WHAT HAPPENS\n",
    "    \n",
    "#within the training data, k-fold cross validation will be implemented to select the best parameters\n",
    "#validation set is only used to assess the model, no to select parameters"
   ]
  },
  {
   "cell_type": "code",
   "execution_count": 131,
   "metadata": {},
   "outputs": [],
   "source": [
    "#Input vector and labelling\n",
    "\n",
    "train_x = train_data[['BIAS','NOI', 'DSCR', 'LTV', 'Balance', \n",
    "                    'Rate', 'Fee','Net_Mortgage_Rate', 'Year_Built', \n",
    "                    'Renovation','Occupancy', 'ZipPop', 'CR', 'CS', \n",
    "                    'CS_Ratio','NOI_Ratio', 'PV_Ratio', 'IR']].to_numpy() #already proper shape\n",
    "train_y = train_data['is_paid'].to_numpy()\n",
    "train_y = train_y.reshape(-1, 1)    \n",
    "\n",
    "valid_x = validation_data[['BIAS','NOI', 'DSCR', 'LTV', 'Balance', \n",
    "                    'Rate', 'Fee','Net_Mortgage_Rate', 'Year_Built', \n",
    "                    'Renovation','Occupancy', 'ZipPop', 'CR', 'CS', \n",
    "                    'CS_Ratio','NOI_Ratio', 'PV_Ratio', 'IR']].to_numpy() #already proper shape\n",
    "valid_y = validation_data['is_paid'].to_numpy()\n",
    "valid_y = valid_y.reshape(-1, 1)    \n",
    "\n",
    "\n"
   ]
  },
  {
   "cell_type": "markdown",
   "metadata": {},
   "source": [
    "## IMPLEMENTATION OF THE LOGISTIC REGRESSION WITH THE ACTUAL DATA.\n",
    "All predictors initially (k=17)"
   ]
  },
  {
   "cell_type": "code",
   "execution_count": 141,
   "metadata": {},
   "outputs": [
    {
     "name": "stdout",
     "output_type": "stream",
     "text": [
      "AUC: 0.5438508064516129\n",
      "AUC: 0.5390866141732283\n",
      "AUC: 0.49275362318840576\n",
      "AUC: 0.48326715825297784\n",
      "AUC: 0.47640944881889763\n"
     ]
    }
   ],
   "source": [
    "#TRAINING WITH K-FOLD CROSS VALIDATION FOR PARAMETER SELECTION\n",
    "\n",
    "kf = KFold(n_splits=5)\n",
    "\n",
    "#print(kf)\n",
    "\n",
    "#print(kf.split(X))\n",
    "\n",
    "k=17; # DO IT AUTOMATICALLY, related with the number of predictors=number of columns apart from labelling or bias term\n",
    "threshold = 0.5\n",
    "\n",
    "for train_index, test_index in kf.split(train_x):\n",
    "    #print(\"TRAIN:\", train_index, \"TEST:\", test_index)\n",
    "    X_train_folded, X_test = train_x[train_index], train_x[test_index]\n",
    "    y_train_folded, y_test = train_y[train_index], train_y[test_index]\n",
    "    #following model training and evaluation for everyfold\n",
    "    theta = np.random.rand(k+1,1)\n",
    "    theta=logistic_train(theta,X_train_folded,y_train_folded)    \n",
    "    y_p = sigmoid(np.dot(X_test,theta))\n",
    "    #print(y_p.shape) to discover the 252\n",
    "    y_predict = np.zeros(252) #252 comes from size of test data, to be automated\n",
    "    for i in range(1,252): #this is just to control the threshold, no extrictly needed\n",
    "        if y_p[i]>threshold:\n",
    "            y_predict[i]=1\n",
    "    print(\"AUC:\",metrics.roc_auc_score(y_test,y_predict))\n",
    "    "
   ]
  },
  {
   "cell_type": "markdown",
   "metadata": {},
   "source": [
    "# CONCLUSION: \n",
    "my classificator is pretty shitty, but at least it classify things\n",
    "\n",
    "AUC need to be at leat around 0.7 for logistic regresion, the professor got that in his paper.\n",
    "\n",
    "now, we are around 0.5, or even worse, meaning that that a random even a random clasifier will perform better. :("
   ]
  },
  {
   "cell_type": "markdown",
   "metadata": {},
   "source": [
    "## SELECCTION OF THE MOST RELEVANT VARIABLES"
   ]
  },
  {
   "attachments": {
    "image.png": {
     "image/png": "[encoded data removed]"
    }
   },
   "cell_type": "markdown",
   "metadata": {},
   "source": [
    "This information may be relevant\n",
    "![image.png](attachment:image.png) "
   ]
  }
 ],
 "metadata": {
  "interpreter": {
   "hash": "4b7eec4c2e4729699d3902cd476885cff76cced32e2e0591bab94044ee16dad2"
  },
  "kernelspec": {
   "display_name": "Python 3 (ipykernel)",
   "language": "python",
   "name": "python3"
  },
  "language_info": {
   "codemirror_mode": {
    "name": "ipython",
    "version": 3
   },
   "file_extension": ".py",
   "mimetype": "text/x-python",
   "name": "python",
   "nbconvert_exporter": "python",
   "pygments_lexer": "ipython3",
   "version": "3.9.7"
  }
 },
 "nbformat": 4,
 "nbformat_minor": 2
}
